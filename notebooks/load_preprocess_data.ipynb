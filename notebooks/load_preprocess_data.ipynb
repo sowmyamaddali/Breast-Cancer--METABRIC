{
 "cells": [
  {
   "cell_type": "code",
   "execution_count": 1,
   "id": "c86492da-0da9-4cda-a670-2860ac96e0d0",
   "metadata": {},
   "outputs": [],
   "source": [
    "# import libraries\n",
    "import numpy as np\n",
    "import pandas as pd\n",
    "import matplotlib.pyplot as plt\n",
    "import seaborn as sns\n",
    "\n",
    "import warnings\n",
    "warnings.filterwarnings('ignore')"
   ]
  },
  {
   "cell_type": "code",
   "execution_count": 2,
   "id": "abd5b26f-7069-4f44-9c2b-886c041ef346",
   "metadata": {},
   "outputs": [
    {
     "name": "stdout",
     "output_type": "stream",
     "text": [
      "Dataset loaded successfully\n",
      "The shape of the data: (2509, 34)\n"
     ]
    }
   ],
   "source": [
    "# load the dataset\n",
    "file_path=\"../data/dataset_BreastCancerMETABRIC.csv\"\n",
    "\n",
    "# load the data\n",
    "data = pd.read_csv(file_path)\n",
    "print(\"Dataset loaded successfully\")\n",
    "\n",
    "# size of the dataset\n",
    "print(\"The shape of the data: {}\".format(data.shape))"
   ]
  },
  {
   "cell_type": "code",
   "execution_count": 3,
   "id": "ef6d0649-5f3c-422c-abbf-ff73f4b66e6d",
   "metadata": {},
   "outputs": [
    {
     "name": "stdout",
     "output_type": "stream",
     "text": [
      "<class 'pandas.core.frame.DataFrame'>\n",
      "RangeIndex: 2509 entries, 0 to 2508\n",
      "Data columns (total 34 columns):\n",
      " #   Column                          Non-Null Count  Dtype  \n",
      "---  ------                          --------------  -----  \n",
      " 0   Patient ID                      2509 non-null   object \n",
      " 1   Age at Diagnosis                2498 non-null   float64\n",
      " 2   Type of Breast Surgery          1955 non-null   object \n",
      " 3   Cancer Type                     2509 non-null   object \n",
      " 4   Cancer Type Detailed            2509 non-null   object \n",
      " 5   Cellularity                     1917 non-null   object \n",
      " 6   Chemotherapy                    1980 non-null   object \n",
      " 7   Pam50 + Claudin-low subtype     1980 non-null   object \n",
      " 8   Cohort                          2498 non-null   float64\n",
      " 9   ER status measured by IHC       2426 non-null   object \n",
      " 10  ER Status                       2469 non-null   object \n",
      " 11  Neoplasm Histologic Grade       2388 non-null   float64\n",
      " 12  HER2 status measured by SNP6    1980 non-null   object \n",
      " 13  HER2 Status                     1980 non-null   object \n",
      " 14  Tumor Other Histologic Subtype  2374 non-null   object \n",
      " 15  Hormone Therapy                 1980 non-null   object \n",
      " 16  Inferred Menopausal State       1980 non-null   object \n",
      " 17  Integrative Cluster             1980 non-null   object \n",
      " 18  Primary Tumor Laterality        1870 non-null   object \n",
      " 19  Lymph nodes examined positive   2243 non-null   float64\n",
      " 20  Mutation Count                  2357 non-null   float64\n",
      " 21  Nottingham prognostic index     2287 non-null   float64\n",
      " 22  Oncotree Code                   2509 non-null   object \n",
      " 23  Overall Survival (Months)       1981 non-null   float64\n",
      " 24  Overall Survival Status         1981 non-null   object \n",
      " 25  PR Status                       1980 non-null   object \n",
      " 26  Radio Therapy                   1980 non-null   object \n",
      " 27  Relapse Free Status (Months)    2388 non-null   float64\n",
      " 28  Relapse Free Status             2488 non-null   object \n",
      " 29  Sex                             2509 non-null   object \n",
      " 30  3-Gene classifier subtype       1764 non-null   object \n",
      " 31  Tumor Size                      2360 non-null   float64\n",
      " 32  Tumor Stage                     1788 non-null   float64\n",
      " 33  Patient's Vital Status          1980 non-null   object \n",
      "dtypes: float64(10), object(24)\n",
      "memory usage: 666.6+ KB\n"
     ]
    }
   ],
   "source": [
    "# display basic information about the dataset\n",
    "data.info()"
   ]
  },
  {
   "cell_type": "code",
   "execution_count": 4,
   "id": "9de02eee-79ac-427b-8d8f-9d3001f892ce",
   "metadata": {},
   "outputs": [
    {
     "data": {
      "text/html": [
       "<div>\n",
       "<style scoped>\n",
       "    .dataframe tbody tr th:only-of-type {\n",
       "        vertical-align: middle;\n",
       "    }\n",
       "\n",
       "    .dataframe tbody tr th {\n",
       "        vertical-align: top;\n",
       "    }\n",
       "\n",
       "    .dataframe thead th {\n",
       "        text-align: right;\n",
       "    }\n",
       "</style>\n",
       "<table border=\"1\" class=\"dataframe\">\n",
       "  <thead>\n",
       "    <tr style=\"text-align: right;\">\n",
       "      <th></th>\n",
       "      <th>Patient ID</th>\n",
       "      <th>Age at Diagnosis</th>\n",
       "      <th>Type of Breast Surgery</th>\n",
       "      <th>Cancer Type</th>\n",
       "      <th>Cancer Type Detailed</th>\n",
       "      <th>Cellularity</th>\n",
       "      <th>Chemotherapy</th>\n",
       "      <th>Pam50 + Claudin-low subtype</th>\n",
       "      <th>Cohort</th>\n",
       "      <th>ER status measured by IHC</th>\n",
       "      <th>...</th>\n",
       "      <th>Overall Survival Status</th>\n",
       "      <th>PR Status</th>\n",
       "      <th>Radio Therapy</th>\n",
       "      <th>Relapse Free Status (Months)</th>\n",
       "      <th>Relapse Free Status</th>\n",
       "      <th>Sex</th>\n",
       "      <th>3-Gene classifier subtype</th>\n",
       "      <th>Tumor Size</th>\n",
       "      <th>Tumor Stage</th>\n",
       "      <th>Patient's Vital Status</th>\n",
       "    </tr>\n",
       "  </thead>\n",
       "  <tbody>\n",
       "    <tr>\n",
       "      <th>0</th>\n",
       "      <td>MB-0000</td>\n",
       "      <td>75.65</td>\n",
       "      <td>Mastectomy</td>\n",
       "      <td>Breast Cancer</td>\n",
       "      <td>Breast Invasive Ductal Carcinoma</td>\n",
       "      <td>NaN</td>\n",
       "      <td>No</td>\n",
       "      <td>claudin-low</td>\n",
       "      <td>1.0</td>\n",
       "      <td>Positve</td>\n",
       "      <td>...</td>\n",
       "      <td>Living</td>\n",
       "      <td>Negative</td>\n",
       "      <td>Yes</td>\n",
       "      <td>138.65</td>\n",
       "      <td>Not Recurred</td>\n",
       "      <td>Female</td>\n",
       "      <td>ER-/HER2-</td>\n",
       "      <td>22.0</td>\n",
       "      <td>2.0</td>\n",
       "      <td>Living</td>\n",
       "    </tr>\n",
       "    <tr>\n",
       "      <th>1</th>\n",
       "      <td>MB-0002</td>\n",
       "      <td>43.19</td>\n",
       "      <td>Breast Conserving</td>\n",
       "      <td>Breast Cancer</td>\n",
       "      <td>Breast Invasive Ductal Carcinoma</td>\n",
       "      <td>High</td>\n",
       "      <td>No</td>\n",
       "      <td>LumA</td>\n",
       "      <td>1.0</td>\n",
       "      <td>Positve</td>\n",
       "      <td>...</td>\n",
       "      <td>Living</td>\n",
       "      <td>Positive</td>\n",
       "      <td>Yes</td>\n",
       "      <td>83.52</td>\n",
       "      <td>Not Recurred</td>\n",
       "      <td>Female</td>\n",
       "      <td>ER+/HER2- High Prolif</td>\n",
       "      <td>10.0</td>\n",
       "      <td>1.0</td>\n",
       "      <td>Living</td>\n",
       "    </tr>\n",
       "    <tr>\n",
       "      <th>2</th>\n",
       "      <td>MB-0005</td>\n",
       "      <td>48.87</td>\n",
       "      <td>Mastectomy</td>\n",
       "      <td>Breast Cancer</td>\n",
       "      <td>Breast Invasive Ductal Carcinoma</td>\n",
       "      <td>High</td>\n",
       "      <td>Yes</td>\n",
       "      <td>LumB</td>\n",
       "      <td>1.0</td>\n",
       "      <td>Positve</td>\n",
       "      <td>...</td>\n",
       "      <td>Deceased</td>\n",
       "      <td>Positive</td>\n",
       "      <td>No</td>\n",
       "      <td>151.28</td>\n",
       "      <td>Recurred</td>\n",
       "      <td>Female</td>\n",
       "      <td>NaN</td>\n",
       "      <td>15.0</td>\n",
       "      <td>2.0</td>\n",
       "      <td>Died of Disease</td>\n",
       "    </tr>\n",
       "    <tr>\n",
       "      <th>3</th>\n",
       "      <td>MB-0006</td>\n",
       "      <td>47.68</td>\n",
       "      <td>Mastectomy</td>\n",
       "      <td>Breast Cancer</td>\n",
       "      <td>Breast Mixed Ductal and Lobular Carcinoma</td>\n",
       "      <td>Moderate</td>\n",
       "      <td>Yes</td>\n",
       "      <td>LumB</td>\n",
       "      <td>1.0</td>\n",
       "      <td>Positve</td>\n",
       "      <td>...</td>\n",
       "      <td>Living</td>\n",
       "      <td>Positive</td>\n",
       "      <td>Yes</td>\n",
       "      <td>162.76</td>\n",
       "      <td>Not Recurred</td>\n",
       "      <td>Female</td>\n",
       "      <td>NaN</td>\n",
       "      <td>25.0</td>\n",
       "      <td>2.0</td>\n",
       "      <td>Living</td>\n",
       "    </tr>\n",
       "    <tr>\n",
       "      <th>4</th>\n",
       "      <td>MB-0008</td>\n",
       "      <td>76.97</td>\n",
       "      <td>Mastectomy</td>\n",
       "      <td>Breast Cancer</td>\n",
       "      <td>Breast Mixed Ductal and Lobular Carcinoma</td>\n",
       "      <td>High</td>\n",
       "      <td>Yes</td>\n",
       "      <td>LumB</td>\n",
       "      <td>1.0</td>\n",
       "      <td>Positve</td>\n",
       "      <td>...</td>\n",
       "      <td>Deceased</td>\n",
       "      <td>Positive</td>\n",
       "      <td>Yes</td>\n",
       "      <td>18.55</td>\n",
       "      <td>Recurred</td>\n",
       "      <td>Female</td>\n",
       "      <td>ER+/HER2- High Prolif</td>\n",
       "      <td>40.0</td>\n",
       "      <td>2.0</td>\n",
       "      <td>Died of Disease</td>\n",
       "    </tr>\n",
       "  </tbody>\n",
       "</table>\n",
       "<p>5 rows × 34 columns</p>\n",
       "</div>"
      ],
      "text/plain": [
       "  Patient ID  Age at Diagnosis Type of Breast Surgery    Cancer Type  \\\n",
       "0    MB-0000             75.65             Mastectomy  Breast Cancer   \n",
       "1    MB-0002             43.19      Breast Conserving  Breast Cancer   \n",
       "2    MB-0005             48.87             Mastectomy  Breast Cancer   \n",
       "3    MB-0006             47.68             Mastectomy  Breast Cancer   \n",
       "4    MB-0008             76.97             Mastectomy  Breast Cancer   \n",
       "\n",
       "                        Cancer Type Detailed Cellularity Chemotherapy  \\\n",
       "0           Breast Invasive Ductal Carcinoma         NaN           No   \n",
       "1           Breast Invasive Ductal Carcinoma        High           No   \n",
       "2           Breast Invasive Ductal Carcinoma        High          Yes   \n",
       "3  Breast Mixed Ductal and Lobular Carcinoma    Moderate          Yes   \n",
       "4  Breast Mixed Ductal and Lobular Carcinoma        High          Yes   \n",
       "\n",
       "  Pam50 + Claudin-low subtype  Cohort ER status measured by IHC  ...  \\\n",
       "0                 claudin-low     1.0                   Positve  ...   \n",
       "1                        LumA     1.0                   Positve  ...   \n",
       "2                        LumB     1.0                   Positve  ...   \n",
       "3                        LumB     1.0                   Positve  ...   \n",
       "4                        LumB     1.0                   Positve  ...   \n",
       "\n",
       "  Overall Survival Status  PR Status Radio Therapy  \\\n",
       "0                  Living   Negative           Yes   \n",
       "1                  Living   Positive           Yes   \n",
       "2                Deceased   Positive            No   \n",
       "3                  Living   Positive           Yes   \n",
       "4                Deceased   Positive           Yes   \n",
       "\n",
       "  Relapse Free Status (Months) Relapse Free Status     Sex  \\\n",
       "0                       138.65        Not Recurred  Female   \n",
       "1                        83.52        Not Recurred  Female   \n",
       "2                       151.28            Recurred  Female   \n",
       "3                       162.76        Not Recurred  Female   \n",
       "4                        18.55            Recurred  Female   \n",
       "\n",
       "  3-Gene classifier subtype Tumor Size Tumor Stage  Patient's Vital Status  \n",
       "0                 ER-/HER2-       22.0         2.0                  Living  \n",
       "1     ER+/HER2- High Prolif       10.0         1.0                  Living  \n",
       "2                       NaN       15.0         2.0         Died of Disease  \n",
       "3                       NaN       25.0         2.0                  Living  \n",
       "4     ER+/HER2- High Prolif       40.0         2.0         Died of Disease  \n",
       "\n",
       "[5 rows x 34 columns]"
      ]
     },
     "execution_count": 4,
     "metadata": {},
     "output_type": "execute_result"
    }
   ],
   "source": [
    "# getting the first few rows of the dataset\n",
    "data.head()"
   ]
  },
  {
   "cell_type": "code",
   "execution_count": 5,
   "id": "6f4f39d1",
   "metadata": {},
   "outputs": [
    {
     "name": "stdout",
     "output_type": "stream",
     "text": [
      "\n",
      "Columns with missing values:\n",
      "Age at Diagnosis                   11\n",
      "Type of Breast Surgery            554\n",
      "Cellularity                       592\n",
      "Chemotherapy                      529\n",
      "Pam50 + Claudin-low subtype       529\n",
      "Cohort                             11\n",
      "ER status measured by IHC          83\n",
      "ER Status                          40\n",
      "Neoplasm Histologic Grade         121\n",
      "HER2 status measured by SNP6      529\n",
      "HER2 Status                       529\n",
      "Tumor Other Histologic Subtype    135\n",
      "Hormone Therapy                   529\n",
      "Inferred Menopausal State         529\n",
      "Integrative Cluster               529\n",
      "Primary Tumor Laterality          639\n",
      "Lymph nodes examined positive     266\n",
      "Mutation Count                    152\n",
      "Nottingham prognostic index       222\n",
      "Overall Survival (Months)         528\n",
      "Overall Survival Status           528\n",
      "PR Status                         529\n",
      "Radio Therapy                     529\n",
      "Relapse Free Status (Months)      121\n",
      "Relapse Free Status                21\n",
      "3-Gene classifier subtype         745\n",
      "Tumor Size                        149\n",
      "Tumor Stage                       721\n",
      "Patient's Vital Status            529\n",
      "dtype: int64\n"
     ]
    }
   ],
   "source": [
    "# Display missing values in each column\n",
    "missing_values = data.isnull().sum()\n",
    "print(\"\\nColumns with missing values:\")\n",
    "print(missing_values[missing_values > 0])"
   ]
  },
  {
   "cell_type": "code",
   "execution_count": 6,
   "id": "4fd36624",
   "metadata": {},
   "outputs": [
    {
     "name": "stdout",
     "output_type": "stream",
     "text": [
      "\n",
      "Mode imputation completed for all columns with missing values.\n"
     ]
    }
   ],
   "source": [
    "# Identify columns with missing values\n",
    "columns_with_missing = missing_values[missing_values > 0].index\n",
    "\n",
    "# Apply mode imputation\n",
    "for col in columns_with_missing:\n",
    "    data[col].fillna(data[col].mode()[0], inplace=True)\n",
    "\n",
    "print(\"\\nMode imputation completed for all columns with missing values.\")"
   ]
  },
  {
   "cell_type": "code",
   "execution_count": 7,
   "id": "0f78ca3a",
   "metadata": {},
   "outputs": [
    {
     "name": "stdout",
     "output_type": "stream",
     "text": [
      "\n",
      "No missing values remain in the dataset after mode imputation.\n"
     ]
    }
   ],
   "source": [
    "# Check for remaining missing values after imputation\n",
    "remaining_missing_values = data.isnull().sum()\n",
    "if remaining_missing_values.sum() == 0:\n",
    "    print(\"\\nNo missing values remain in the dataset after mode imputation.\")\n",
    "else:\n",
    "    print(\"\\nColumns with remaining missing values after imputation:\")\n",
    "    print(remaining_missing_values[remaining_missing_values > 0])"
   ]
  },
  {
   "cell_type": "code",
   "execution_count": 8,
   "id": "8a5c6d1b",
   "metadata": {},
   "outputs": [
    {
     "name": "stdout",
     "output_type": "stream",
     "text": [
      "<class 'pandas.core.frame.DataFrame'>\n",
      "RangeIndex: 2509 entries, 0 to 2508\n",
      "Data columns (total 34 columns):\n",
      " #   Column                          Non-Null Count  Dtype  \n",
      "---  ------                          --------------  -----  \n",
      " 0   patient_id                      2509 non-null   object \n",
      " 1   age_at_diagnosis                2509 non-null   float64\n",
      " 2   type_of_breast_surgery          2509 non-null   object \n",
      " 3   cancer_type                     2509 non-null   object \n",
      " 4   cancer_type_detailed            2509 non-null   object \n",
      " 5   cellularity                     2509 non-null   object \n",
      " 6   chemotherapy                    2509 non-null   object \n",
      " 7   pam50_+_claudin-low_subtype     2509 non-null   object \n",
      " 8   cohort                          2509 non-null   float64\n",
      " 9   er_status_measured_by_ihc       2509 non-null   object \n",
      " 10  er_status                       2509 non-null   object \n",
      " 11  neoplasm_histologic_grade       2509 non-null   float64\n",
      " 12  her2_status_measured_by_snp6    2509 non-null   object \n",
      " 13  her2_status                     2509 non-null   object \n",
      " 14  tumor_other_histologic_subtype  2509 non-null   object \n",
      " 15  hormone_therapy                 2509 non-null   object \n",
      " 16  inferred_menopausal_state       2509 non-null   object \n",
      " 17  integrative_cluster             2509 non-null   object \n",
      " 18  primary_tumor_laterality        2509 non-null   object \n",
      " 19  lymph_nodes_examined_positive   2509 non-null   float64\n",
      " 20  mutation_count                  2509 non-null   float64\n",
      " 21  nottingham_prognostic_index     2509 non-null   float64\n",
      " 22  oncotree_code                   2509 non-null   object \n",
      " 23  overall_survival_(months)       2509 non-null   float64\n",
      " 24  overall_survival_status         2509 non-null   object \n",
      " 25  pr_status                       2509 non-null   object \n",
      " 26  radio_therapy                   2509 non-null   object \n",
      " 27  relapse_free_status_(months)    2509 non-null   float64\n",
      " 28  relapse_free_status             2509 non-null   object \n",
      " 29  sex                             2509 non-null   object \n",
      " 30  3-gene_classifier_subtype       2509 non-null   object \n",
      " 31  tumor_size                      2509 non-null   float64\n",
      " 32  tumor_stage                     2509 non-null   float64\n",
      " 33  patient's_vital_status          2509 non-null   object \n",
      "dtypes: float64(10), object(24)\n",
      "memory usage: 666.6+ KB\n"
     ]
    }
   ],
   "source": [
    "# cleaning the column names\n",
    "data.columns = data.columns.str.replace(\" \", \"_\").str.lower()\n",
    "data.info()"
   ]
  },
  {
   "cell_type": "code",
   "execution_count": 9,
   "id": "509ff1e3",
   "metadata": {},
   "outputs": [
    {
     "data": {
      "text/plain": [
       "array(['Living', 'Died of Disease', 'Died of Other Causes'], dtype=object)"
      ]
     },
     "execution_count": 9,
     "metadata": {},
     "output_type": "execute_result"
    }
   ],
   "source": [
    "data[\"patient's_vital_status\"].unique()"
   ]
  },
  {
   "cell_type": "code",
   "execution_count": 10,
   "id": "03e8db30",
   "metadata": {},
   "outputs": [
    {
     "data": {
      "text/plain": [
       "array([0, 1])"
      ]
     },
     "execution_count": 10,
     "metadata": {},
     "output_type": "execute_result"
    }
   ],
   "source": [
    "# changing the dtype of the following column\n",
    "data[\"patient's_vital_status\"] = data[\"patient's_vital_status\"].map({\"Living\": 0, \n",
    "                                                                     \"Died of Disease\": 1,\n",
    "                                                                    \"Died of Other Causes\": 1})\n",
    "data[\"patient\\'s_vital_status\"].unique()"
   ]
  },
  {
   "cell_type": "code",
   "execution_count": 11,
   "id": "a4242638",
   "metadata": {},
   "outputs": [
    {
     "name": "stdout",
     "output_type": "stream",
     "text": [
      "\n",
      "Preprocessed dataset saved successfully at: ../data/preprocessed_breast_cancer_data.csv\n"
     ]
    }
   ],
   "source": [
    "# Save the dataset in the 'data' folder outside the 'notebooks' folder\n",
    "output_path = \"../data/preprocessed_breast_cancer_data.csv\"\n",
    "data.to_csv(output_path, index=False)\n",
    "\n",
    "print(f\"\\nPreprocessed dataset saved successfully at: {output_path}\")"
   ]
  },
  {
   "cell_type": "code",
   "execution_count": null,
   "id": "2430a113",
   "metadata": {},
   "outputs": [],
   "source": []
  }
 ],
 "metadata": {
  "kernelspec": {
   "display_name": "Python 3 (ipykernel)",
   "language": "python",
   "name": "python3"
  },
  "language_info": {
   "codemirror_mode": {
    "name": "ipython",
    "version": 3
   },
   "file_extension": ".py",
   "mimetype": "text/x-python",
   "name": "python",
   "nbconvert_exporter": "python",
   "pygments_lexer": "ipython3",
   "version": "3.11.5"
  }
 },
 "nbformat": 4,
 "nbformat_minor": 5
}
